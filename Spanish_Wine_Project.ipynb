{
  "nbformat": 4,
  "nbformat_minor": 0,
  "metadata": {
    "colab": {
      "provenance": [],
      "mount_file_id": "1GNdetRgZ73ZhB4zXllRCXJyMRWmXjgc3",
      "authorship_tag": "ABX9TyOdFE04I8cXBiYhuvMgjLqq",
      "include_colab_link": true
    },
    "kernelspec": {
      "name": "python3",
      "display_name": "Python 3"
    },
    "language_info": {
      "name": "python"
    }
  },
  "cells": [
    {
      "cell_type": "markdown",
      "metadata": {
        "id": "view-in-github",
        "colab_type": "text"
      },
      "source": [
        "<a href=\"https://colab.research.google.com/github/HeatherAnnFoster/Spanish-Wine-Project/blob/main/Spanish_Wine_Project.ipynb\" target=\"_parent\"><img src=\"https://colab.research.google.com/assets/colab-badge.svg\" alt=\"Open In Colab\"/></a>"
      ]
    },
    {
      "cell_type": "code",
      "execution_count": null,
      "metadata": {
        "id": "GfkocpatgolL"
      },
      "outputs": [],
      "source": [
        "import pandas as pd\n",
        "import seaborn as sns\n",
        "import matplotlib.pyplot as plt\n",
        "\n",
        "from sklearn.model_selection import train_test_split\n",
        "from sklearn.metrics import precision_score, recall_score,ConfusionMatrixDisplay, accuracy_score, classification_report\n",
        "from sklearn.linear_model import LogisticRegression\n",
        "from sklearn.preprocessing import StandardScaler\n",
        "from sklearn.compose import make_column_selector, make_column_transformer\n",
        "from sklearn.pipeline import make_pipeline\n",
        "\n",
        "df = pd.read_csv('/content/Project 2.A.csv')\n",
        "df.head()"
      ]
    },
    {
      "cell_type": "markdown",
      "source": [
        "#**Source of Data**"
      ],
      "metadata": {
        "id": "eBa67FHsk26D"
      }
    },
    {
      "cell_type": "markdown",
      "source": [
        "Kaggle.com"
      ],
      "metadata": {
        "id": "-LO8hvoflmjZ"
      }
    },
    {
      "cell_type": "markdown",
      "source": [
        "#**Brief Description of the Data**"
      ],
      "metadata": {
        "id": "K6zMgzO3j-Iv"
      }
    },
    {
      "cell_type": "markdown",
      "source": [
        "Context\n",
        "\n",
        "This dataset is related to red variants of spanish wines. The dataset describes several popularity and description metrics their effect on it's quality. The datasets can be used for classification or regression tasks. The classes are ordered and not balanced (i.e. the quality goes from almost 5 to 4 points). The task is to predict either the quality of wine or the prices using the given data.\n",
        "\n",
        "Content\n",
        "\n",
        "The dataset contains 7500 different types of red wines from Spain with 11 features that describe their price, rating, and even some flavor description. The was collected by me using web scraping from different sources (from wine specialized pages to supermarkets)."
      ],
      "metadata": {
        "id": "78jfodxMlQXb"
      }
    },
    {
      "cell_type": "markdown",
      "source": [
        "#**Target**"
      ],
      "metadata": {
        "id": "fXfNY2c6lHhR"
      }
    },
    {
      "cell_type": "markdown",
      "source": [
        "There are two possible targets for this dataset.  I will be looking at the quality of the wine of the Rating column for my target."
      ],
      "metadata": {
        "id": "zgTSQ9gvlG-t"
      }
    },
    {
      "cell_type": "markdown",
      "source": [
        "#**What does one row represent? (A person? A business? An event? A product?)**"
      ],
      "metadata": {
        "id": "PBCPjdXjmVpx"
      }
    },
    {
      "cell_type": "markdown",
      "source": [
        "The Winery, Year, Country, and Region represents the business or winery that the wine was produced in.  The Wine, Type, Body, and Acidity represents the wine itself or the product.  The Wine column also represents a product or wine.  The Rating, Number of Reviews, and Price represent the sellability of the wine which would also be tied to the business aspect of the dataset."
      ],
      "metadata": {
        "id": "rKnuDzmBnsk2"
      }
    },
    {
      "cell_type": "markdown",
      "source": [
        "#**Is this a classification or regression problem?**"
      ],
      "metadata": {
        "id": "ExAaX4-bppi2"
      }
    },
    {
      "cell_type": "markdown",
      "source": [
        "Because the target is from the rating column, it is an ordinal column.  The values are 0 to 5, set up as 5 being the best and 0 being the worst.  For this column, I would use an ordinal transformer while I am analyzing this dataset.  It is classification model."
      ],
      "metadata": {
        "id": "y6zBnGxFqTNC"
      }
    },
    {
      "cell_type": "markdown",
      "source": [
        "#**How many features does the data have?**"
      ],
      "metadata": {
        "id": "0tf0e4umqr4_"
      }
    },
    {
      "cell_type": "markdown",
      "source": [
        "There are 11 features."
      ],
      "metadata": {
        "id": "sBRzEwnHqx_m"
      }
    },
    {
      "cell_type": "code",
      "source": [
        "df.shape"
      ],
      "metadata": {
        "id": "veHvuz8puk5s",
        "colab": {
          "base_uri": "https://localhost:8080/"
        },
        "outputId": "277552c7-e706-40ea-c513-cf6e0aec7541"
      },
      "execution_count": 147,
      "outputs": [
        {
          "output_type": "execute_result",
          "data": {
            "text/plain": [
              "(7500, 11)"
            ]
          },
          "metadata": {},
          "execution_count": 147
        }
      ]
    },
    {
      "cell_type": "markdown",
      "source": [
        "#**How many rows are in the dataset?**"
      ],
      "metadata": {
        "id": "hDhSlDPfutL1"
      }
    },
    {
      "cell_type": "markdown",
      "source": [
        "There are 7,500 rows."
      ],
      "metadata": {
        "id": "WGmNhc5ku5FO"
      }
    },
    {
      "cell_type": "markdown",
      "source": [
        "#**What, if any, challenges do you foresee in cleaning, exploring, or modeling this dataset?**"
      ],
      "metadata": {
        "id": "YurJA1VZu76t"
      }
    },
    {
      "cell_type": "markdown",
      "source": [
        "I foresee duplicates, missing data and needing multiple preprocessors for various models on different columns.  I also think I will have multiple visualizations to see and show what different columns would look like when compared to others.  This might help determine what I need to tune later."
      ],
      "metadata": {
        "id": "TqH2tVIMvGrU"
      }
    },
    {
      "cell_type": "code",
      "source": [
        "df.info()"
      ],
      "metadata": {
        "id": "aBIlASTEZXFf"
      },
      "execution_count": null,
      "outputs": []
    },
    {
      "cell_type": "code",
      "source": [
        "df.dtypes"
      ],
      "metadata": {
        "id": "biFMVqSeZt2q"
      },
      "execution_count": null,
      "outputs": []
    },
    {
      "cell_type": "markdown",
      "source": [
        "#Duplicated Values\n",
        "There are 5,452 duplicated rows.  They will be dropped within the next few boxes."
      ],
      "metadata": {
        "id": "xX1EZQ_LhTMh"
      }
    },
    {
      "cell_type": "code",
      "source": [
        "df.duplicated().sum()"
      ],
      "metadata": {
        "colab": {
          "base_uri": "https://localhost:8080/"
        },
        "id": "Oeoe7Y2PeO-T",
        "outputId": "bb2f981d-10c2-489d-823a-aa13d200c0f0"
      },
      "execution_count": 150,
      "outputs": [
        {
          "output_type": "execute_result",
          "data": {
            "text/plain": [
              "5452"
            ]
          },
          "metadata": {},
          "execution_count": 150
        }
      ]
    },
    {
      "cell_type": "code",
      "source": [
        "df.loc[df.duplicated()]"
      ],
      "metadata": {
        "id": "Dw8Fg3SEaNUl"
      },
      "execution_count": null,
      "outputs": []
    },
    {
      "cell_type": "markdown",
      "source": [
        "The duplicates are dropped now."
      ],
      "metadata": {
        "id": "6LR_IyPRiJ1O"
      }
    },
    {
      "cell_type": "code",
      "source": [
        "df = df.drop_duplicates()\n",
        "df.duplicated().sum()"
      ],
      "metadata": {
        "id": "DOJL0kw7hzlI"
      },
      "execution_count": null,
      "outputs": []
    },
    {
      "cell_type": "code",
      "source": [
        "df.describe(include = 'number')"
      ],
      "metadata": {
        "id": "1gJl9yHVdLQ7"
      },
      "execution_count": null,
      "outputs": []
    },
    {
      "cell_type": "code",
      "source": [
        "df.shape"
      ],
      "metadata": {
        "colab": {
          "base_uri": "https://localhost:8080/"
        },
        "id": "a-MYEfGLaHmf",
        "outputId": "d9cbc46f-5362-4685-bf10-57722cee9520"
      },
      "execution_count": 154,
      "outputs": [
        {
          "output_type": "execute_result",
          "data": {
            "text/plain": [
              "(2048, 11)"
            ]
          },
          "metadata": {},
          "execution_count": 154
        }
      ]
    },
    {
      "cell_type": "markdown",
      "source": [
        "#Inconsistent Data\n",
        "\n",
        "Below is a look at all the values of the data.  There are no inconsistencies of categorical data in this set."
      ],
      "metadata": {
        "id": "LdZ9qn3hvZBV"
      }
    },
    {
      "cell_type": "code",
      "source": [
        "df.value_counts()"
      ],
      "metadata": {
        "id": "CmYOmk-sjTqM"
      },
      "execution_count": null,
      "outputs": []
    },
    {
      "cell_type": "code",
      "source": [
        "df['wine'].value_counts()\n",
        "print(df['wine'].unique())"
      ],
      "metadata": {
        "id": "p_Bbb1O7jTix"
      },
      "execution_count": null,
      "outputs": []
    },
    {
      "cell_type": "code",
      "source": [
        "# change this column to something like is_red ?\n",
        "# str.contains('red')  --> is_red 1"
      ],
      "metadata": {
        "id": "2xGrJX3Kac-e"
      },
      "execution_count": 157,
      "outputs": []
    },
    {
      "cell_type": "code",
      "source": [
        "df['year'].value_counts()\n",
        "print(df['year'].unique())"
      ],
      "metadata": {
        "id": "J-zKFxXVjTeX"
      },
      "execution_count": null,
      "outputs": []
    },
    {
      "cell_type": "code",
      "source": [
        "df['rating'].value_counts()\n",
        "print(df['rating'].unique())"
      ],
      "metadata": {
        "id": "LBY0n9AJjTaB",
        "colab": {
          "base_uri": "https://localhost:8080/"
        },
        "outputId": "30a010f4-f6e0-4ec8-ee84-57f441559bac"
      },
      "execution_count": 159,
      "outputs": [
        {
          "output_type": "stream",
          "name": "stdout",
          "text": [
            "[4.9 4.8 4.7 4.6 4.5 4.4 4.3 4.2]\n"
          ]
        }
      ]
    },
    {
      "cell_type": "code",
      "source": [
        "df['num_reviews'].value_counts()\n",
        "print(df['num_reviews'].unique())"
      ],
      "metadata": {
        "id": "zha4DtaZjTVa"
      },
      "execution_count": null,
      "outputs": []
    },
    {
      "cell_type": "markdown",
      "source": [
        "#Dropped Column\n",
        "Because this column is telling us that all the wine was made in Spain, we can drop it and not have it affect our dataset."
      ],
      "metadata": {
        "id": "g3KogcX4lQjk"
      }
    },
    {
      "cell_type": "code",
      "source": [
        "df['country'].value_counts()"
      ],
      "metadata": {
        "colab": {
          "base_uri": "https://localhost:8080/"
        },
        "id": "M5esSEP0jTOB",
        "outputId": "5a8a220e-3d2e-4a86-ac47-5308666c99fd"
      },
      "execution_count": 161,
      "outputs": [
        {
          "output_type": "execute_result",
          "data": {
            "text/plain": [
              "Espana    2048\n",
              "Name: country, dtype: int64"
            ]
          },
          "metadata": {},
          "execution_count": 161
        }
      ]
    },
    {
      "cell_type": "code",
      "source": [
        "df = df.drop(columns = 'country')"
      ],
      "metadata": {
        "id": "d9OLtEUblfcX"
      },
      "execution_count": 162,
      "outputs": []
    },
    {
      "cell_type": "markdown",
      "source": [
        "**Because this data is 1970, 10 % of it would need ot be around 200 unique values.  If the data is looked at, the most frequently used winery is not used 10% of the time.  Therefore, there is no pattern or need to keep this column.  So, it will be dropped.**"
      ],
      "metadata": {
        "id": "VbVJiacnDzuw"
      }
    },
    {
      "cell_type": "code",
      "source": [
        "df = df.drop(columns = 'winery')"
      ],
      "metadata": {
        "id": "ck7RZ5b5EJwC"
      },
      "execution_count": 163,
      "outputs": []
    },
    {
      "cell_type": "code",
      "source": [
        "df['region'].value_counts()\n",
        "print(df['region'].value_counts())"
      ],
      "metadata": {
        "id": "EbNkifvYjSyN"
      },
      "execution_count": null,
      "outputs": []
    },
    {
      "cell_type": "code",
      "source": [
        "df['price'].value_counts()\n",
        "print(df['price'].unique())"
      ],
      "metadata": {
        "id": "nmCsONZ7keQ5",
        "colab": {
          "base_uri": "https://localhost:8080/"
        },
        "outputId": "09356911-762b-4020-a943-645a90f4fe24"
      },
      "execution_count": 165,
      "outputs": [
        {
          "output_type": "stream",
          "name": "stdout",
          "text": [
            "[995.   313.5  324.95 ...  16.76  24.45  31.63]\n"
          ]
        }
      ]
    },
    {
      "cell_type": "code",
      "source": [
        "df['type'].value_counts()\n",
        "print(df['type'].unique())"
      ],
      "metadata": {
        "id": "JE_N9Z8SkeN3"
      },
      "execution_count": null,
      "outputs": []
    },
    {
      "cell_type": "code",
      "source": [
        "df['body'].value_counts()\n",
        "print(df['body'].unique())"
      ],
      "metadata": {
        "id": "OfKetBRKkeLM",
        "colab": {
          "base_uri": "https://localhost:8080/"
        },
        "outputId": "39132af6-4bf5-4570-e029-d56c52cfbb3f"
      },
      "execution_count": 167,
      "outputs": [
        {
          "output_type": "stream",
          "name": "stdout",
          "text": [
            "[ 5.  4.  3. nan  2.]\n"
          ]
        }
      ]
    },
    {
      "cell_type": "code",
      "source": [
        "df['acidity'].value_counts()\n",
        "print(df['acidity'].unique())"
      ],
      "metadata": {
        "id": "YRproteAkeIJ",
        "colab": {
          "base_uri": "https://localhost:8080/"
        },
        "outputId": "d6c8cf58-564f-4391-fb38-287d9bf600c1"
      },
      "execution_count": 168,
      "outputs": [
        {
          "output_type": "stream",
          "name": "stdout",
          "text": [
            "[ 3.  2.  1. nan]\n"
          ]
        }
      ]
    },
    {
      "cell_type": "code",
      "source": [
        "df.info()"
      ],
      "metadata": {
        "id": "u8EW7q4inSBF"
      },
      "execution_count": null,
      "outputs": []
    },
    {
      "cell_type": "markdown",
      "source": [
        "#Missing Values\n",
        "\n",
        "I will be dropping the missing values in the year column and in the type column.  The reason I am dropping the year and type is because it is less than 5% of the total dataset so it won't affect the data too much.  Now we have a dataset with values that are dropped."
      ],
      "metadata": {
        "id": "n1e9Lh7jnm0H"
      }
    },
    {
      "cell_type": "code",
      "source": [
        "df.isna().sum()"
      ],
      "metadata": {
        "id": "94y4EJqwkeE9"
      },
      "execution_count": null,
      "outputs": []
    },
    {
      "cell_type": "code",
      "source": [
        "df.dropna(subset= ['year'], inplace=True)\n",
        "df.dropna(subset= ['type'], inplace=True)\n",
        "df.isna().sum()"
      ],
      "metadata": {
        "id": "rg3rPV_okeCE"
      },
      "execution_count": null,
      "outputs": []
    },
    {
      "cell_type": "markdown",
      "source": [
        "#Univariate visuals for the target and all features.\n",
        "Identified outliers.\n",
        "\n",
        "Acidity and Body have some values that are not as close to each other as other values, but these are not outliers.  There aren't any here."
      ],
      "metadata": {
        "id": "66ql_md7ZGkg"
      }
    },
    {
      "cell_type": "code",
      "source": [
        "df['rating'].hist()\n",
        "ax=df['rating'].hist()\n",
        "ax=df['rating'].hist(bins = 10, edgecolor = 'black')\n",
        "ax.set_title('Ratings')\n",
        "ax. set_xlabel(\"rating\")\n",
        "ax.set_ylabel('rating')"
      ],
      "metadata": {
        "id": "6BLTUQ_Skd5b"
      },
      "execution_count": null,
      "outputs": []
    },
    {
      "cell_type": "code",
      "source": [
        "df['num_reviews'].hist()\n",
        "ax=df['num_reviews'].hist()\n",
        "ax=df['num_reviews'].hist(bins = 20, edgecolor = 'black')\n",
        "ax.set_title('Reveiws')\n",
        "ax. set_xlabel(\"num_reviews\", rotation = 90)\n",
        "ax.set_ylabel('num_reveiws')"
      ],
      "metadata": {
        "id": "Jw4p_gIVkdn6"
      },
      "execution_count": null,
      "outputs": []
    },
    {
      "cell_type": "code",
      "source": [
        "df['price'].hist()\n",
        "ax=df['price'].hist()\n",
        "ax=df['price'].hist(bins = 20, edgecolor = 'black')\n",
        "ax.set_title('Price')\n",
        "ax. set_xlabel(\"price\", rotation = 90)\n",
        "ax.set_ylabel('price')"
      ],
      "metadata": {
        "id": "MUl3uq6R2pWV"
      },
      "execution_count": null,
      "outputs": []
    },
    {
      "cell_type": "code",
      "source": [
        "df['body'].hist()\n",
        "ax=df['body'].hist(bins = 20, edgecolor = 'black')\n",
        "ax.set_title('Body')\n",
        "ax. set_xlabel(\"body\", rotation = 90)\n",
        "ax.set_ylabel('body')"
      ],
      "metadata": {
        "id": "n5I9L8Wz3HMg"
      },
      "execution_count": null,
      "outputs": []
    },
    {
      "cell_type": "code",
      "source": [
        "df['acidity'].hist()\n",
        "ax=df['acidity'].hist(bins = 20, edgecolor = 'black')\n",
        "ax.set_title('Acidity')\n",
        "ax. set_xlabel(\"acidity\", rotation = 90)\n",
        "ax.set_ylabel('acidity')"
      ],
      "metadata": {
        "id": "PGyTKqYS3Rvz"
      },
      "execution_count": null,
      "outputs": []
    },
    {
      "cell_type": "markdown",
      "source": [
        "**With all this information, someone like me, who does not drink wine, can use this to determine what their likely wine of choice would be.  They would be able to answer questions like, \"How much acidity do I like in my wine?\"  Or \"How fully bodied do I want my wine to be?\"  They can also try different acidities with bodies and match that to the rating of the wine that they are trying.  To start, I would try a highly rated wine with a low acidity, simply because I do not like the strong taste of wine, then experiement from there.**"
      ],
      "metadata": {
        "id": "WVx-ojrHt5Cm"
      }
    },
    {
      "cell_type": "code",
      "source": [
        "#X= df['wine']\n",
        "#y = df['year']\n",
        "#fig,ax = plt.subplots()\n",
        "#ax.scatter(X, y)\n",
        "#plt.figure(figsize=(12,10))"
      ],
      "metadata": {
        "id": "tT5xOASJkd2Y"
      },
      "execution_count": 190,
      "outputs": []
    },
    {
      "cell_type": "code",
      "source": [
        "#df['year'].hist()\n",
        "#ax=df['year'].hist()\n",
        "#ax=df['year'].hist(bins = 20, edgecolor = 'black')\n",
        "#ax.set_title('year')\n",
        "#ax. set_xlabel(\"year\", rotation = 90)\n",
        "#ax.set_ylabel('year')\n",
        "#plt.figure(figsize=(30,28))"
      ],
      "metadata": {
        "id": "KZfecKRbkdyw"
      },
      "execution_count": 178,
      "outputs": []
    },
    {
      "cell_type": "code",
      "source": [
        "#sns.lineplot(data = df, x = 'winery', y = 'region', errorbar=None, marker = 'o')\n",
        "#plt.figure(figsize=(50,48))"
      ],
      "metadata": {
        "id": "3vog5SZ9kdvl"
      },
      "execution_count": 179,
      "outputs": []
    },
    {
      "cell_type": "code",
      "source": [
        "#df['type'].hist()\n",
        "#ax=df['type'].hist(bins = 20, edgecolor = 'black')\n",
        "#ax.set_title('Type')\n",
        "#ax. set_xlabel(\"type\", rotation = 90)\n",
        "#ax.set_ylabel('type')"
      ],
      "metadata": {
        "id": "rHC6FEZy25_B"
      },
      "execution_count": 180,
      "outputs": []
    },
    {
      "cell_type": "code",
      "source": [
        "corr = df.corr()\n",
        "fig, ax = plt.subplots(figsize = (12, 10))\n",
        "ax = sns.heatmap(corr, cmap= 'Blues', annot = True)"
      ],
      "metadata": {
        "id": "hMYaB6Oy60pm"
      },
      "execution_count": null,
      "outputs": []
    },
    {
      "cell_type": "markdown",
      "source": [
        "**This correlation map shows a moderate correlation between price and rating at 0.51 or 51%.  That makes sense because the rating would positively impact the sales of the wines.  It would also makes sense to think that if the rating of the wine is higher, the price of it would be higher as well.**\n",
        "\n",
        "**Another correlation is between body and rating.  This correlation makes sense as well, even though it is not as strong as the first one.  It is only 0.21 or 21%.  If the body of the wine is pleasing or better than another body, it would make sense that the rating of the wine would go up as well.  Perhaps there was a section of the 'rating' survey that was tailored just for body, so that the customers could rate the body on its own merits.**"
      ],
      "metadata": {
        "id": "GyiLxRfiQOOE"
      }
    },
    {
      "cell_type": "code",
      "source": [
        "sns.pairplot(df);"
      ],
      "metadata": {
        "id": "DdkmTtXiBdtU"
      },
      "execution_count": null,
      "outputs": []
    },
    {
      "cell_type": "markdown",
      "source": [
        "**The graphs of num reviews and price mirrors the correlation graph of price and rating in that the higher price is positively impacted by the higher review.  That makes a lot of sense too.  As the quality of the wine increases, the reviews increase and the price can be increased as well.  This can lead to the wine maker creating limited wines that are rated higher and priced accordingly.**\n",
        "\n",
        "**A graph that was interesting to me, because I don't drink wine, was the body and acidity graph.  As the body or fullness of the wine increased, the acidity increased.  This leads me to wonder if the taste of the wine becomes richer based on the ratio of body to acidity.  That would be something important to know for someone who doesn't drink wine very much.  That may also be a question that a new customer would have to a wine connoisseur in order to determine if they want to try that wine or not.  It would give a wine seller an opportunity to give a new customer a reason to buy different bodies or acidic properites of wine in order to find the new customer's opinon on which wine they liked the best.**"
      ],
      "metadata": {
        "id": "VCwJNW0gZyJd"
      }
    },
    {
      "cell_type": "code",
      "source": [
        "ax = sns.scatterplot(data=df, x = 'price', y = 'rating')"
      ],
      "metadata": {
        "id": "QOjrJFTyRoGk",
        "colab": {
          "base_uri": "https://localhost:8080/",
          "height": 449
        },
        "outputId": "80e363bf-2b99-424d-d974-385f27f9d00c"
      },
      "execution_count": 199,
      "outputs": [
        {
          "output_type": "display_data",
          "data": {
            "text/plain": [
              "<Figure size 640x480 with 1 Axes>"
            ],
            "image/png": "[encoded data removed]"
          },
          "metadata": {}
        }
      ]
    },
    {
      "cell_type": "code",
      "source": [
        "sns.barplot(data=df, x='body', y = 'acidity')"
      ],
      "metadata": {
        "id": "LIG7Bgqd568X",
        "colab": {
          "base_uri": "https://localhost:8080/",
          "height": 466
        },
        "outputId": "9748c97e-770b-4d37-a7df-cd07e61325b5"
      },
      "execution_count": 202,
      "outputs": [
        {
          "output_type": "execute_result",
          "data": {
            "text/plain": [
              "<Axes: xlabel='body', ylabel='acidity'>"
            ]
          },
          "metadata": {},
          "execution_count": 202
        },
        {
          "output_type": "display_data",
          "data": {
            "text/plain": [
              "<Figure size 640x480 with 1 Axes>"
            ],
            "image/png": "[encoded data removed]"
          },
          "metadata": {}
        }
      ]
    },
    {
      "cell_type": "code",
      "source": [
        "df.info()"
      ],
      "metadata": {
        "id": "qPR1i-67mfVm"
      },
      "execution_count": null,
      "outputs": []
    },
    {
      "cell_type": "code",
      "source": [
        "#Define features (X) and target (y)\n",
        "y = df['rating']\n",
        "X = df.drop(columns='rating')\n",
        "\n",
        "#split the dataset\n",
        "X_train, X_test, y_train, y_test = train_test_split(X,y, random_state = 42)"
      ],
      "metadata": {
        "id": "PibKh4zkoiGe"
      },
      "execution_count": 186,
      "outputs": []
    },
    {
      "cell_type": "code",
      "source": [
        "#Instantiate the column selectors\n",
        "num_selector = make_column_selector(dtype_include = 'number')\n",
        "cat_selector = make_column_selector(dtype_include = 'object')"
      ],
      "metadata": {
        "id": "hvSXS52K3AcO"
      },
      "execution_count": 187,
      "outputs": []
    },
    {
      "cell_type": "code",
      "source": [
        "#Instantiate the transformers\n",
        "scaler = StandardScaler()\n",
        "log_reg = LogisticRegression()"
      ],
      "metadata": {
        "id": "QFPzGpY71ppj"
      },
      "execution_count": 193,
      "outputs": []
    },
    {
      "cell_type": "code",
      "source": [
        "##Create Tuples\n",
        "number_tuple = (scaler, num_selector)\n",
        "category_tuple = (log_reg, cat_selector)\n",
        "\n",
        "## Create Preprocessor\n",
        "preprocessor = make_column_transformer (number_tuple,\n",
        "                                        category_tuple,\n",
        "                                        remainder = 'drop')\n",
        "\n",
        "## Create an instance of the model\n",
        "log_reg = LogisticRegression()\n",
        "##Create pipeline\n",
        "log_reg_pipe = make_pipeline(preprocessor, log_reg)\n",
        "##Fit the model\n",
        "log_reg_pipe.fit(X_train, y_train)"
      ],
      "metadata": {
        "id": "0Fhdbt5mzqKq"
      },
      "execution_count": null,
      "outputs": []
    }
  ]
}